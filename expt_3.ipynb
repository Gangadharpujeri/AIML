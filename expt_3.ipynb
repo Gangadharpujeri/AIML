{
 "cells": [
  {
   "cell_type": "code",
   "execution_count": 1,
   "id": "c7d709a3",
   "metadata": {},
   "outputs": [
    {
     "name": "stdout",
     "output_type": "stream",
     "text": [
      "[[   1 6012]\n",
      " [   2 7079]\n",
      " [   3 6886]\n",
      " [   4 7236]\n",
      " [   5 4598]\n",
      " [   6 5564]\n",
      " [   7 6971]\n",
      " [   8 7763]\n",
      " [   9 8032]\n",
      " [  10 9569]]\n"
     ]
    }
   ],
   "source": [
    "import numpy as np\n",
    "step_data = np.array([[1,6012],[2,7079],[3,6886],[4,7236],[5,4598],[6,5564],[7,6971],[8,7763],[9,8032],[10,9569]])\n",
    "print(step_data)"
   ]
  },
  {
   "cell_type": "code",
   "execution_count": 3,
   "id": "2ed5102f",
   "metadata": {},
   "outputs": [
    {
     "name": "stdout",
     "output_type": "stream",
     "text": [
      "After adding 2000 steps everyday :  [[    1 10012]\n",
      " [    2 11079]\n",
      " [    3 10886]\n",
      " [    4 11236]\n",
      " [    5  8598]\n",
      " [    6  9564]\n",
      " [    7 10971]\n",
      " [    8 11763]\n",
      " [    9 12032]\n",
      " [   10 13569]]\n",
      "Return steps more then 9000 by Iec :  []\n",
      "Return sorted steps by Ice :  [[    1 10012]\n",
      " [    2 11079]\n",
      " [    3 10886]\n",
      " [    4 11236]\n",
      " [    5  8598]\n",
      " [    6  9564]\n",
      " [    7 10971]\n",
      " [    8 11763]\n",
      " [    9 12032]\n",
      " [   10 13569]]\n",
      "Return max steps by Ice :  13569\n",
      "Return min steps by Ice :  8598\n"
     ]
    }
   ],
   "source": [
    "step_data[:,1]+=2000\n",
    "print(\"After adding 2000 steps everyday : \",step_data)\n",
    "step_more_then_9000 = step_data[step_data[:,0]>9000]\n",
    "print(\"Return steps more then 9000 by Iec : \",step_more_then_9000)\n",
    "sorted_steps = np.sort(step_data)\n",
    "print(\"Return sorted steps by Ice : \",sorted_steps)\n",
    "more_steps = np.max(step_data)\n",
    "print(\"Return max steps by Ice : \",more_steps)\n",
    "min_steps = np.min(step_data[:,1])\n",
    "print(\"Return min steps by Ice : \",min_steps)"
   ]
  },
  {
   "cell_type": "code",
   "execution_count": null,
   "id": "660f8ce1",
   "metadata": {},
   "outputs": [],
   "source": []
  }
 ],
 "metadata": {
  "kernelspec": {
   "display_name": "Python 3",
   "language": "python",
   "name": "python3"
  },
  "language_info": {
   "codemirror_mode": {
    "name": "ipython",
    "version": 3
   },
   "file_extension": ".py",
   "mimetype": "text/x-python",
   "name": "python",
   "nbconvert_exporter": "python",
   "pygments_lexer": "ipython3",
   "version": "3.13.7"
  }
 },
 "nbformat": 4,
 "nbformat_minor": 5
}
