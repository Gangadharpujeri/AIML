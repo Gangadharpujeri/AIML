{
 "cells": [
  {
   "cell_type": "code",
   "execution_count": null,
   "id": "b3a6acc6",
   "metadata": {},
   "outputs": [],
   "source": [
    "import pandas as pd\n",
    "df = pd.read_csv('criditcard_DV_csv')"
   ]
  },
  {
   "cell_type": "code",
   "execution_count": null,
   "id": "a7c316d8",
   "metadata": {},
   "outputs": [],
   "source": [
    "import matplotlib.pyplot as plt\n",
    "fig = plt.figure(figsize = [5,5])\n",
    "ax = fig.add_axes([0,0,1,1])\n",
    "ax.scatter(df['cridit_Limit'],df['avg_purchaase'])\n",
    "ax.set_title(\"Cridit limit vs Avg purchase\",fontsize=16)\n",
    "ax.set_xlabel(\"Cridit limit\",fontsize=12)\n",
    "ax.set_ylabel(\"Avg purchase\",fontsize=12)\n",
    "fig.show()"
   ]
  },
  {
   "cell_type": "code",
   "execution_count": null,
   "id": "5ef69879",
   "metadata": {},
   "outputs": [],
   "source": [
    "import matplotlib.pyplot as plt\n",
    "df_list = [df['Credit_limit'],df['Average_purchase']]\n",
    "fig = plt.figure(figsize=[6,5])\n",
    "ax = fig.add_axes([0,0,1,1])\n",
    "ax.set_title('Credit_limit and Average_purchase')\n",
    "ax.boxplot(df_list,width=0.5)\n",
    "ax.set_xticklabels(['Cridit_limit','Average_purchase'])\n",
    "plt.show()"
   ]
  },
  {
   "cell_type": "code",
   "execution_count": null,
   "id": "06a332ed",
   "metadata": {},
   "outputs": [],
   "source": [
    "grouped_df = df.groupby('Income_category').size().reset_index(name = 'count')\n",
    "fig = plt.figure(figsize=[7,5])\n",
    "ax = fig.add_axes([0,0,1,1])\n",
    "ax.set_title(\"No of clusters by income category\",fontsize = 16)\n",
    "ax.set_xlabel('Income category',fontsize = 12)\n",
    "ax.set_ylabel('Count',fontsize = 12)\n",
    "ax.bar(grouped_df['Income category'],grouped_df['count'])\n",
    "plt.tight_layout()\n",
    "plt.show()"
   ]
  },
  {
   "cell_type": "code",
   "execution_count": null,
   "id": "ccfa22b9",
   "metadata": {},
   "outputs": [],
   "source": [
    "fig = plt.figure(figsize = [8,6])\n",
    "ax = fig.add_axes([0,0,1,1])\n",
    "ax.hist(df['Total_trans_amt'],bins = 20,edgecolor = 'black')\n",
    "ax.set_title('Distrubution of total transaction amount',fontsize = 16)\n",
    "ax.set_xlabel('Total_trans_amt',fontsize = 12)\n",
    "ax.set_ylabel('Frequency',fontsize = 12)\n",
    "plt.show()\n"
   ]
  },
  {
   "cell_type": "code",
   "execution_count": null,
   "id": "b6a0e161",
   "metadata": {},
   "outputs": [],
   "source": [
    "pie_df = pd.DataFrame()\n",
    "pie_df['count'] = df['Attrition_flag'].value_counts()\n",
    "pie_df = pie_df.reset_index()\n",
    "pie_df.rename(columns = {'index':'customers'},inplace = True)\n",
    "pie_df\n",
    "fig = plt.figure(figsize = [6,4])\n",
    "ax = fig.add_axes([0,0,1,1])\n",
    "ax.set_title('Attrition Flag')\n",
    "ax.pie(pie_df['count']),\n",
    "lables = pie_df['Attrition Flag']\n",
    "autopct = '%0.1f%%'\n",
    "fig.show()"
   ]
  }
 ],
 "metadata": {
  "language_info": {
   "name": "python"
  }
 },
 "nbformat": 4,
 "nbformat_minor": 5
}
