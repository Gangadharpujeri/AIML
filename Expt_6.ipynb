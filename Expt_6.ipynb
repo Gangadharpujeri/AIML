{
 "cells": [
  {
   "cell_type": "code",
   "execution_count": 1,
   "id": "21b535c8",
   "metadata": {},
   "outputs": [
    {
     "name": "stdout",
     "output_type": "stream",
     "text": [
      "Mappped value 0    422\n",
      "1    382\n",
      "2    392\n",
      "Name: A_mappaed, dtype: int64\n"
     ]
    }
   ],
   "source": [
    "import pandas as pd \n",
    "data={'A':[420,380,390],'B':[50,40,45]}\n",
    "df=pd.DataFrame(data)\n",
    "df['A_mappaed'] = df['A'].map(lambda x : x + 2)\n",
    "print(\"Mappped value\", df['A_mappaed'])"
   ]
  },
  {
   "cell_type": "code",
   "execution_count": 3,
   "id": "d8933023",
   "metadata": {},
   "outputs": [
    {
     "name": "stdout",
     "output_type": "stream",
     "text": [
      "0    470\n",
      "1    420\n",
      "2    435\n",
      "Name: sum, dtype: int64\n"
     ]
    }
   ],
   "source": [
    "data={'A':[420,380,390],'B':[50,40,45]}\n",
    "df=pd.DataFrame(data)\n",
    "\n",
    "df['sum'] = df.apply(lambda row : row['A']+row['B'], axis=1)\n",
    "print(df['sum'])"
   ]
  },
  {
   "cell_type": "code",
   "execution_count": 6,
   "id": "8a7aaa59",
   "metadata": {},
   "outputs": [
    {
     "name": "stdout",
     "output_type": "stream",
     "text": [
      "     A   B\n",
      "0  420  50\n",
      "1  380  40\n",
      "2  390  45\n",
      "135\n"
     ]
    }
   ],
   "source": [
    "from functools import reduce\n",
    "data={'A':[420,380,390],'B':[50,40,45]}\n",
    "df=pd.DataFrame(data)\n",
    "print(df)\n",
    "res_reduce = reduce(lambda x,y : x+y, df['B'])\n",
    "print(res_reduce)"
   ]
  }
 ],
 "metadata": {
  "kernelspec": {
   "display_name": "Python 3",
   "language": "python",
   "name": "python3"
  },
  "language_info": {
   "codemirror_mode": {
    "name": "ipython",
    "version": 3
   },
   "file_extension": ".py",
   "mimetype": "text/x-python",
   "name": "python",
   "nbconvert_exporter": "python",
   "pygments_lexer": "ipython3",
   "version": "3.12.2"
  }
 },
 "nbformat": 4,
 "nbformat_minor": 5
}
