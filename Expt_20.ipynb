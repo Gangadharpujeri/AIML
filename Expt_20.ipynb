import tensorflow as tf
from tensorflow import keras
from tensorflow.keras.callbacks import TensorBoard, ModelCheckpoint
import datetime
import os

log_folder = 'logs'
mnist = tf.keras.datasets.mnist
(x_tarin, y_train), (x_test, y_test) = mnist.load_data()
x_tarin, x_test = x_tarin / 255.0, x_test / 255.0

print("Training Dataset shape: {}".format(x_tarin.shape))
print("No Training Dataset sample: {}".format(len(x_tarin)))
print("Test Dataset shape: {}".format(x_tarin.shape))
print("No Test Dataset sample: {}".format(len(y_test)))

model = keras.models.Sequential([
    keras.layers.Flatten(input_shape = (28, 28)),
    keras.layers.Dense(512, activation = 'relu'),
    keras.layers.Dropout(rate=0.8),
    keras.layers.Dense(10, activation = 'softmax')
])

model.summary()

log_dir = f"logs/fit{datetime.datetime.now().strftime('%Y%m%d - %H%M%S')}"
os.makedirs(log_dir, exist_ok=True)

tensorboard_cb = TensorBoard(log_dir=log_dir,histogram_freq=1)
checkpoint_cb = ModelCheckpoint(f"{log_dir}/model-{{epoch:02d}}.h5")

model.compile(
    optimizer=keras.optimizers.SGD(),
    loss = 'sparse_categorical_crossentropy',
    metrics = ['accuracy']
)

histrory = model.fit(x_tarin, y_train, epochs=10, validation_data = (x_test, y_test), callbacks=[tensorboard_cb, checkpoint_cb], verbose=2)

try:
  keras.utils.plot_model(model, show_shapes=True,
                         to_file='model_architecture.png')
  print("Saved model_architecture.png")

except Exception as e:
  print("counld not save model diagram", e)

print("Tensorboard log directory: ", log_dir)

%load_ext tensorboard
%tensorboard --logdir logs/fit
