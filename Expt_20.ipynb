{
 "cells": [
  {
   "cell_type": "code",
   "execution_count": null,
   "id": "a069f1b2",
   "metadata": {},
   "outputs": [],
   "source": [
    "import tensorflow as tf\n",
    "from tensorflow import keras\n",
    "import datetime\n",
    "import os\n",
    "\n",
    "log_folder = 'logs'\n",
    "mnist = tf.keras.datasets.mnist\n",
    "(x_train,y_train),(x_test,y_test) = minst.loda.data()\n",
    "x_train,x_test = x_train / 255.0 ,x_test / 255.0\n",
    "\n",
    "print(\"Training  Dataset Shape : {}\".format(x_train.shape))\n",
    "print(\"No.of Training Samples :{}\".format(len(x_train)))\n",
    "print(\"Test Dataset shape : {}\".format(x_test.shape))\n",
    "print(\"No.of Test Dataset Samples :{}\".format(len(x_train)))"
   ]
  }
 ],
 "metadata": {
  "kernelspec": {
   "display_name": "Python 3",
   "language": "python",
   "name": "python3"
  },
  "language_info": {
   "name": "python",
   "version": "3.13.7"
  }
 },
 "nbformat": 4,
 "nbformat_minor": 5
}
