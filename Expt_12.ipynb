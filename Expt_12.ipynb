{
 "cells": [
  {
   "cell_type": "code",
   "execution_count": null,
   "id": "57657354",
   "metadata": {},
   "outputs": [],
   "source": [
    "import pandas as pd\n",
    "import seaborn as sns\n",
    "import matplotlib.pyplot as plt\n",
    "df = pd.read_csv('cie_see.csv')\n",
    "df"
   ]
  },
  {
   "cell_type": "code",
   "execution_count": null,
   "id": "3a20d970",
   "metadata": {},
   "outputs": [],
   "source": [
    "x = df[['CIE']]\n",
    "x"
   ]
  },
  {
   "cell_type": "code",
   "execution_count": null,
   "id": "d776e26e",
   "metadata": {},
   "outputs": [],
   "source": [
    "y = df[['SEE']]\n",
    "y"
   ]
  },
  {
   "cell_type": "code",
   "execution_count": null,
   "id": "e4e422f0",
   "metadata": {},
   "outputs": [],
   "source": [
    "sns.scatterplot(data = df,x = 'CIE',y ='SEE')\n",
    "from sklearn.model_selection import train_test_split\n",
    "x_train,x_test,y_train,y_test = train_test_split(x,y,test_size = 0.2)\n",
    "print(\"Training set size : \",x_train.shape[0])\n",
    "print(\"Testing set size : \",x_test.shape[0])"
   ]
  },
  {
   "cell_type": "code",
   "execution_count": null,
   "id": "a82bb095",
   "metadata": {},
   "outputs": [],
   "source": [
    "x_test"
   ]
  },
  {
   "cell_type": "code",
   "execution_count": null,
   "id": "a4b6c3e3",
   "metadata": {},
   "outputs": [],
   "source": [
    "x_train"
   ]
  },
  {
   "cell_type": "code",
   "execution_count": null,
   "id": "572c89cf",
   "metadata": {},
   "outputs": [],
   "source": [
    "y_train"
   ]
  },
  {
   "cell_type": "code",
   "execution_count": null,
   "id": "d09dd1c7",
   "metadata": {},
   "outputs": [],
   "source": [
    "y_test"
   ]
  },
  {
   "cell_type": "code",
   "execution_count": null,
   "id": "f428ce85",
   "metadata": {},
   "outputs": [],
   "source": [
    "from sklearn.linear_model import LinearRegression\n",
    "lr = LinearRegression()\n",
    "lr.fit(x_train,y_train)\n",
    "y_pred = lr.predict(x_test)\n",
    "y_train_pred = lr.predict(x_train)\n",
    "print(\"pridications on training set : \")\n",
    "print(y_train_pred)\n",
    "print(\"pridications on testing set : \")\n",
    "print(y_pred)"
   ]
  },
  {
   "cell_type": "code",
   "execution_count": null,
   "id": "429a6bf3",
   "metadata": {},
   "outputs": [],
   "source": [
    "from sklearn.metrics import mean_squared_error,mean_absolute_error,r2_score\n",
    "mse = mean_squared_error(y_test,y_pred)\n",
    "mae = mean_absolute_error(y_test,y_pred)\n",
    "r2 = r2_score(y_test,y_pred)\n",
    "print(\"mean_squared_error : \",mse)\n",
    "print(\"mean_absolute_error : \",mae)\n",
    "print(\" r2_score : \",r2)"
   ]
  },
  {
   "cell_type": "code",
   "execution_count": null,
   "id": "e2faccdc",
   "metadata": {},
   "outputs": [],
   "source": [
    "import numpy as np\n",
    "rmse = np.sqrt(mse)\n",
    "print(rmse)"
   ]
  },
  {
   "cell_type": "code",
   "execution_count": null,
   "id": "e8762140",
   "metadata": {},
   "outputs": [],
   "source": [
    "import matplotlib.pyplot as plt\n",
    "model = LinearRegression()\n",
    "model.fit(x_train,y_train)\n",
    "x_pred = model.predict(x_train)\n",
    "plt.scatter(x_train,y_train,color = 'red')\n",
    "plt.plot(x_train,x_pred,color = 'green')\n",
    "plt.title(\"CEI VS SEE\")\n",
    "plt.xlabel(\"CIE\")\n",
    "plt.ylabel(\"SEE\")\n",
    "plt.show()"
   ]
  }
 ],
 "metadata": {
  "language_info": {
   "name": "python"
  }
 },
 "nbformat": 4,
 "nbformat_minor": 5
}
